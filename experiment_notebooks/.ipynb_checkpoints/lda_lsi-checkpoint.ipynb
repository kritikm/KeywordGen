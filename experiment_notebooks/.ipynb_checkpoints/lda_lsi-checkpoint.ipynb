{
 "cells": [
  {
   "cell_type": "code",
   "execution_count": 225,
   "metadata": {
    "collapsed": true
   },
   "outputs": [],
   "source": [
    "import gensim\n",
    "import os"
   ]
  },
  {
   "cell_type": "code",
   "execution_count": 246,
   "metadata": {
    "collapsed": true
   },
   "outputs": [],
   "source": [
    "projectDir = os.path.join(os.getcwd(), '..')\n",
    "stopwordsPath = os.path.join(projectDir, 'stopwords')\n",
    "songsPath = os.path.join(projectDir, 'full_set')\n",
    "keywordsPath = os.path.join(projectDir, 'rake_keys')"
   ]
  },
  {
   "cell_type": "code",
   "execution_count": 248,
   "metadata": {
    "collapsed": true
   },
   "outputs": [],
   "source": [
    "songs = []\n",
    "names = os.listdir(songsPath)\n",
    "\n",
    "for name in names:\n",
    "    with open(os.path.join(songsPath, name)) as f:\n",
    "        song = \"\"\n",
    "        for line in f.readlines()[5:]:\n",
    "            song += line\n",
    "        songs.append(song)\n",
    "            "
   ]
  },
  {
   "cell_type": "code",
   "execution_count": 249,
   "metadata": {
    "collapsed": true
   },
   "outputs": [],
   "source": [
    "with open(os.path.join(projectDir, stopwordsPath)) as stops:\n",
    "    stopwords = set(stops.read().split())\n",
    "\n",
    "song_docs = [[word for word in song.split() if word not in stopwords] for song in songs]\n"
   ]
  },
  {
   "cell_type": "code",
   "execution_count": 250,
   "metadata": {
    "collapsed": true
   },
   "outputs": [],
   "source": [
    "from gensim import corpora"
   ]
  },
  {
   "cell_type": "code",
   "execution_count": 251,
   "metadata": {
    "collapsed": true
   },
   "outputs": [],
   "source": [
    "dictionary = corpora.Dictionary(song_docs)"
   ]
  },
  {
   "cell_type": "code",
   "execution_count": 252,
   "metadata": {
    "collapsed": true
   },
   "outputs": [],
   "source": [
    "corpus = [dictionary.doc2bow(song) for song in song_docs]\n",
    "# corpora.MmCorpus.serialize('corpora_100.mm', corpus)"
   ]
  },
  {
   "cell_type": "code",
   "execution_count": 253,
   "metadata": {
    "collapsed": true
   },
   "outputs": [],
   "source": [
    "lda = gensim.models.ldamodel.LdaModel(corpus = corpus, id2word = dictionary, num_topics = 5)"
   ]
  },
  {
   "cell_type": "code",
   "execution_count": 254,
   "metadata": {
    "collapsed": true
   },
   "outputs": [],
   "source": [
    "lsi = gensim.models.lsimodel.LsiModel(corpus = corpus, id2word = dictionary, num_topics = 5)"
   ]
  },
  {
   "cell_type": "code",
   "execution_count": 255,
   "metadata": {
    "scrolled": false
   },
   "outputs": [
    {
     "name": "stdout",
     "output_type": "stream",
     "text": [
      "827/1029\n"
     ]
    }
   ],
   "source": [
    "same = 0\n",
    "# print('Song\\tSong_Topic\\tKeyword_Topic\\n')\n",
    "for name, song in zip(names, songs):\n",
    "    with open(os.path.join(keywordsPath, name)) as keys:\n",
    "        \n",
    "        song_topics = lda[dictionary.doc2bow(song.split())]\n",
    "        key_topics = lda[dictionary.doc2bow(keys.read().split())]        \n",
    "        if(len(key_topics) == 0 or len(song_topics) == 0):\n",
    "            continue\n",
    "            \n",
    "        song_topic = max(song_topics, key = lambda x: x[1])[0]\n",
    "        key_topic = max(key_topics, key = lambda x: x[1])[0]\n",
    "        if(song_topic == key_topic):\n",
    "            same += 1\n",
    "print('%s/%s' %(same, len(names)))"
   ]
  },
  {
   "cell_type": "code",
   "execution_count": 256,
   "metadata": {
    "scrolled": false
   },
   "outputs": [
    {
     "name": "stdout",
     "output_type": "stream",
     "text": [
      "926/1029\n"
     ]
    }
   ],
   "source": [
    "same = 0\n",
    "for name, song in zip(names, songs):\n",
    "    with open(os.path.join(keywordsPath, name)) as keys:\n",
    "        \n",
    "        #sometimes, the keywords are too few for a document to be put in a certain category. That is when an lsi\n",
    "        #returns an empty list\n",
    "        song_topics = lsi[dictionary.doc2bow(song.split())]\n",
    "        key_topics = lsi[dictionary.doc2bow(keys.read().split())]\n",
    "        if(len(key_topics) == 0 or len(song_topics) == 0):\n",
    "            continue\n",
    "    \n",
    "        song_topic = max(song_topics, key = lambda x: x[1])[0]\n",
    "        key_topic = max(key_topics, key = lambda x: x[1])[0]\n",
    "        \n",
    "        if(song_topic == key_topic):\n",
    "            same += 1\n",
    "print('%s/%s' %(same, len(names)))"
   ]
  },
  {
   "cell_type": "code",
   "execution_count": null,
   "metadata": {
    "collapsed": true
   },
   "outputs": [],
   "source": []
  }
 ],
 "metadata": {
  "kernelspec": {
   "display_name": "Python 3",
   "language": "python",
   "name": "python3"
  },
  "language_info": {
   "codemirror_mode": {
    "name": "ipython",
    "version": 3
   },
   "file_extension": ".py",
   "mimetype": "text/x-python",
   "name": "python",
   "nbconvert_exporter": "python",
   "pygments_lexer": "ipython3",
   "version": "3.6.1"
  }
 },
 "nbformat": 4,
 "nbformat_minor": 2
}
