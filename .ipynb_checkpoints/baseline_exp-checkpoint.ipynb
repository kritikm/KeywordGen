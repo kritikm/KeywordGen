{
 "cells": [
  {
   "cell_type": "code",
   "execution_count": 6,
   "metadata": {
    "collapsed": true
   },
   "outputs": [],
   "source": [
    "import os\n",
    "from subprocess import call\n",
    "from collections import defaultdict"
   ]
  },
  {
   "cell_type": "code",
   "execution_count": 16,
   "metadata": {
    "collapsed": true
   },
   "outputs": [],
   "source": [
    "projectDir = os.getcwd()\n",
    "songsDir = os.path.join(projectDir, 'full_set')\n",
    "parserDir = os.path.join(projectDir, 'parser')\n",
    "stopwordsPath = os.path.join(projectDir, 'stopwords')\n",
    "raw_keys = os.path.join(projectDir, 'raw_frequency_keys')\n",
    "outputSuffix = \".output\""
   ]
  },
  {
   "cell_type": "code",
   "execution_count": 17,
   "metadata": {
    "collapsed": true
   },
   "outputs": [],
   "source": [
    "stopwords = []\n",
    "with open(stopwordsPath) as f:\n",
    "    for word in f:\n",
    "        stopwords.append(word)"
   ]
  },
  {
   "cell_type": "code",
   "execution_count": 18,
   "metadata": {
    "collapsed": true
   },
   "outputs": [],
   "source": [
    "names = os.listdir(songsDir)"
   ]
  },
  {
   "cell_type": "code",
   "execution_count": 15,
   "metadata": {},
   "outputs": [
    {
     "name": "stdout",
     "output_type": "stream",
     "text": [
      "Extracting keywords from file 289\n",
      "Extracting keywords from file 360\n",
      "Extracting keywords from file 460\n",
      "Extracting keywords from file 275\n",
      "Extracting keywords from file 801\n",
      "Extracting keywords from file 805\n",
      "Extracting keywords from file 499\n",
      "Extracting keywords from file 987\n",
      "Extracting keywords from file 502\n",
      "Extracting keywords from file 1024\n",
      "Extracting keywords from file 266\n",
      "Extracting keywords from file 991\n",
      "Extracting keywords from file 464\n",
      "Extracting keywords from file 463\n",
      "Extracting keywords from file 354\n",
      "Extracting keywords from file 1108\n",
      "Extracting keywords from file 391\n",
      "Extracting keywords from file 1096\n",
      "Extracting keywords from file 503\n",
      "Extracting keywords from file 803\n",
      "Extracting keywords from file 466\n",
      "Extracting keywords from file 353\n",
      "Extracting keywords from file 620\n",
      "Extracting keywords from file 465\n",
      "Extracting keywords from file 1011\n",
      "Extracting keywords from file 1003\n",
      "Extracting keywords from file 1018\n",
      "Extracting keywords from file 1198\n",
      "Extracting keywords from file 706\n",
      "Extracting keywords from file 1009\n",
      "Extracting keywords from file 358\n",
      "Extracting keywords from file 1210\n",
      "Extracting keywords from file 1189\n",
      "Extracting keywords from file 1006\n",
      "Extracting keywords from file 498\n",
      "Extracting keywords from file 1086\n",
      "Extracting keywords from file 1098\n",
      "Extracting keywords from file 388\n",
      "Extracting keywords from file 286\n",
      "Extracting keywords from file 1181\n",
      "Extracting keywords from file 285\n",
      "Extracting keywords from file 697\n",
      "Extracting keywords from file 598\n",
      "Extracting keywords from file 1118\n",
      "Extracting keywords from file 359\n",
      "Extracting keywords from file 1186\n",
      "Extracting keywords from file 695\n",
      "Extracting keywords from file 500\n",
      "Extracting keywords from file 271\n",
      "Extracting keywords from file 1072\n",
      "Extracting keywords from file 390\n",
      "Extracting keywords from file 623\n",
      "Extracting keywords from file 615\n",
      "Extracting keywords from file 696\n",
      "Extracting keywords from file 1049\n",
      "Extracting keywords from file 265\n",
      "Extracting keywords from file 1083\n",
      "Extracting keywords from file 501\n",
      "Extracting keywords from file 287\n",
      "Extracting keywords from file 381\n",
      "Extracting keywords from file 701\n",
      "Extracting keywords from file 385\n",
      "Extracting keywords from file 627\n",
      "Extracting keywords from file 267\n",
      "Extracting keywords from file 626\n",
      "Extracting keywords from file 274\n",
      "Extracting keywords from file 981\n",
      "Extracting keywords from file 630\n",
      "Extracting keywords from file 504\n",
      "Extracting keywords from file 1089\n",
      "Extracting keywords from file 1214\n",
      "Extracting keywords from file 462\n",
      "Extracting keywords from file 997\n",
      "Extracting keywords from file 1212\n",
      "Extracting keywords from file 284\n",
      "Extracting keywords from file 291\n",
      "Extracting keywords from file 1052\n",
      "Extracting keywords from file 1030\n",
      "Extracting keywords from file 244\n",
      "Extracting keywords from file 361\n",
      "Extracting keywords from file 1022\n",
      "Extracting keywords from file 1204\n",
      "Extracting keywords from file 694\n",
      "Extracting keywords from file 247\n",
      "Extracting keywords from file 807\n",
      "Extracting keywords from file 387\n",
      "Extracting keywords from file 1162\n",
      "Extracting keywords from file 467\n",
      "Extracting keywords from file 802\n",
      "Extracting keywords from file 272\n",
      "Extracting keywords from file 800\n",
      "Extracting keywords from file 810\n",
      "Extracting keywords from file 288\n",
      "Extracting keywords from file 357\n",
      "Extracting keywords from file 704\n",
      "Extracting keywords from file 383\n",
      "Extracting keywords from file 1184\n",
      "Extracting keywords from file 979\n",
      "Extracting keywords from file 1129\n",
      "Extracting keywords from file 1195\n"
     ]
    }
   ],
   "source": [
    "for name in names:\n",
    "    filePath = os.path.join(songsDir, name)\n",
    "    if os.path.isfile(filePath):\n",
    "        with open(filePath) as f:\n",
    "            print(\"Extracting keywords from file %s\" %name)\n",
    "            call([\"make\", \"-C\", parserDir, filePath + outputSuffix])\n",
    "            with open(filePath + outputSuffix) as outFile:\n",
    "                keywords = defaultdict(lambda:0)\n",
    "                for line in outFile:\n",
    "                    if(line == \"\\n\"):\n",
    "                        continue\n",
    "                    tag = line.split()\n",
    "                    if tag[4] == '0' and tag[2].strip not in stopwords and len(tag[2]) > 2:\n",
    "                        keywords[tag[2].strip()] += 1\n",
    "            os.remove(filePath + outputSuffix)\n",
    "            keywordFile = os.path.join(raw_keys, name)\n",
    "            with open(keywordFile, 'w') as keyFile:\n",
    "#                 print(type(keywords))\n",
    "                for item in sorted(keywords.items(), key = lambda x : -x[1]):\n",
    "#                     keyFile.write('%s\\t%s\\n' %(item[0], item[1]))\n",
    "                    keyFile.write('%s\\n' %(item[0]))\n",
    "#             print('\\n')\n",
    "            "
   ]
  },
  {
   "cell_type": "code",
   "execution_count": null,
   "metadata": {
    "collapsed": true
   },
   "outputs": [],
   "source": []
  }
 ],
 "metadata": {
  "kernelspec": {
   "display_name": "Python 3",
   "language": "python",
   "name": "python3"
  },
  "language_info": {
   "codemirror_mode": {
    "name": "ipython",
    "version": 3
   },
   "file_extension": ".py",
   "mimetype": "text/x-python",
   "name": "python",
   "nbconvert_exporter": "python",
   "pygments_lexer": "ipython3",
   "version": "3.6.1"
  }
 },
 "nbformat": 4,
 "nbformat_minor": 2
}
