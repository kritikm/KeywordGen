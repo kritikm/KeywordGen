{
 "cells": [
  {
   "cell_type": "code",
   "execution_count": 21,
   "metadata": {
    "collapsed": true
   },
   "outputs": [],
   "source": [
    "import os\n",
    "from subprocess import call\n",
    "from collections import defaultdict"
   ]
  },
  {
   "cell_type": "code",
   "execution_count": 22,
   "metadata": {
    "collapsed": true
   },
   "outputs": [],
   "source": [
    "projectDir = os.getcwd()\n",
    "songsDir = os.path.join(projectDir, '100')\n",
    "parserDir = os.path.join(projectDir, 'parser')\n",
    "stopwordsPath = os.path.join(projectDir, 'stopwords')\n",
    "raw_keys = os.path.join(projectDir, 'raw_frequency_keys')\n",
    "outputSuffix = \".output\""
   ]
  },
  {
   "cell_type": "code",
   "execution_count": 23,
   "metadata": {},
   "outputs": [],
   "source": [
    "stopwords = []\n",
    "with open(stopwordsPath) as f:\n",
    "    for word in f:\n",
    "        stopwords.append(word)"
   ]
  },
  {
   "cell_type": "code",
   "execution_count": 24,
   "metadata": {
    "collapsed": true
   },
   "outputs": [],
   "source": [
    "names = os.listdir(songsDir)"
   ]
  },
  {
   "cell_type": "code",
   "execution_count": 25,
   "metadata": {
    "scrolled": true
   },
   "outputs": [
    {
     "name": "stdout",
     "output_type": "stream",
     "text": [
      "Extracting keywords from file 32\n",
      "Extracting keywords from file 47\n",
      "Extracting keywords from file 26\n",
      "Extracting keywords from file 62\n",
      "Extracting keywords from file 15\n",
      "Extracting keywords from file 25\n",
      "Extracting keywords from file 71\n",
      "Extracting keywords from file 7\n",
      "Extracting keywords from file 19\n",
      "Extracting keywords from file 41\n",
      "Extracting keywords from file 45\n",
      "Extracting keywords from file 46\n",
      "Extracting keywords from file 16\n",
      "Extracting keywords from file 37\n",
      "Extracting keywords from file 66\n",
      "Extracting keywords from file 34\n"
     ]
    }
   ],
   "source": [
    "for name in names:\n",
    "    filePath = os.path.join(songsDir, name)\n",
    "    if os.path.isfile(filePath):\n",
    "        with open(filePath) as f:\n",
    "            print(\"Extracting keywords from file %s\" %name)\n",
    "            call([\"make\", \"-C\", parserDir, filePath + outputSuffix])\n",
    "            with open(filePath + outputSuffix) as outFile:\n",
    "                keywords = defaultdict(lambda:0)\n",
    "                for line in outFile:\n",
    "                    if(line == \"\\n\"):\n",
    "                        continue\n",
    "                    tag = line.split()\n",
    "                    if tag[4] == '0' and tag[2].strip not in stopwords and len(tag[2]) > 2:\n",
    "                        keywords[tag[2].strip()] += 1\n",
    "            os.remove(filePath + outputSuffix)\n",
    "            keywordFile = os.path.join(raw_keys, name + '-keys')\n",
    "            with open(keywordFile, 'w') as keyFile:\n",
    "#                 print(type(keywords))\n",
    "                for item in sorted(keywords.items(), key = lambda x : -x[1]):\n",
    "                    keyFile.write('%s\\t%s\\n' %(item[0], item[1]))\n",
    "#             print('\\n')\n",
    "            "
   ]
  },
  {
   "cell_type": "code",
   "execution_count": null,
   "metadata": {
    "collapsed": true
   },
   "outputs": [],
   "source": []
  }
 ],
 "metadata": {
  "kernelspec": {
   "display_name": "Python 3",
   "language": "python",
   "name": "python3"
  },
  "language_info": {
   "codemirror_mode": {
    "name": "ipython",
    "version": 3
   },
   "file_extension": ".py",
   "mimetype": "text/x-python",
   "name": "python",
   "nbconvert_exporter": "python",
   "pygments_lexer": "ipython3",
   "version": "3.6.1"
  }
 },
 "nbformat": 4,
 "nbformat_minor": 2
}
